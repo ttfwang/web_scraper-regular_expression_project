{
 "cells": [
  {
   "cell_type": "markdown",
   "id": "72f75502-843f-4998-a4c3-2749b437afdd",
   "metadata": {},
   "source": [
    "## Web Scraper + Regular Expression Project"
   ]
  },
  {
   "cell_type": "code",
   "execution_count": null,
   "id": "b604b7a9-e972-4dd6-b271-1c04ab2358c8",
   "metadata": {},
   "outputs": [],
   "source": [
    "from bs4 import BeautifulSoup\n",
    "import requests\n",
    "import re\n",
    "import pandas as pd\n",
    "\n",
    "# Fetching the Webpage\n",
    "url = \"http://analytictech.com/mb021/mlk.htm\"\n",
    "page = requests.get(url)\n",
    "soup = BeautifulSoup(page.text, \"html.parser\")\n",
    "print(soup)\n",
    "\n",
    "# Extracting Data\n",
    "mlkj_speech = soup.find_all(\"p\")\n",
    "\n",
    "# Combining Text\n",
    "speech_combined = [p.text for p in mlkj_speech]\n",
    "string_speech = ''.join(speech_combined)\n",
    "\n",
    "# Removing Line Breaks\n",
    "string_speech_cleaned = string_speech.replace(\"\\r\\n\", \" \")\n",
    "print(string_speech_cleaned)\n",
    "\n",
    "# Removing Punctuation\n",
    "speech_no_punt = re.sub(r\"[^\\w\\s]\", \"\", string_speech_cleaned)\n",
    "print(speech_no_punt)\n",
    "\n",
    "# Converting to Lowercase\n",
    "speech_lower = speech_no_punt.lower()\n",
    "print(speech_lower)\n",
    "\n",
    "# Splitting Text into Words\n",
    "speech_broken_out = re.split(r\"\\s+\", speech_lower)\n",
    "\n",
    "# Counting Word Frequencies\n",
    "df = pd.DataFrame(speech_broken_out, columns=['Word']).value_counts().reset_index(name='Count')\n",
    "print(df)\n",
    "\n",
    "# Saving Results to CSV\n",
    "df.to_csv(r\"C:\\Users\\tengf\\OneDrive\\Documents\\Document_Tengfei Wang\\Personal learning document\\Python learning\\MLKJ_Speech_Counts.csv\", index_label='Word')\n"
   ]
  }
 ],
 "metadata": {
  "kernelspec": {
   "display_name": "Python 3 (ipykernel)",
   "language": "python",
   "name": "python3"
  },
  "language_info": {
   "codemirror_mode": {
    "name": "ipython",
    "version": 3
   },
   "file_extension": ".py",
   "mimetype": "text/x-python",
   "name": "python",
   "nbconvert_exporter": "python",
   "pygments_lexer": "ipython3",
   "version": "3.11.7"
  }
 },
 "nbformat": 4,
 "nbformat_minor": 5
}
